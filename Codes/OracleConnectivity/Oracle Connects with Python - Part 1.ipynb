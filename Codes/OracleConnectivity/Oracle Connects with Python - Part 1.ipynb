{
 "cells": [
  {
   "cell_type": "code",
   "execution_count": 1,
   "metadata": {},
   "outputs": [],
   "source": [
    "#Python database programming (PDBC) \n",
    "#!pip install cx_Oracle\n",
    "import cx_Oracle"
   ]
  },
  {
   "cell_type": "code",
   "execution_count": 5,
   "metadata": {},
   "outputs": [],
   "source": [
    "#Steps to perform to connect with the database \n",
    "    #1. Import the package - Database specific\n",
    "    #2. Establish the connection between Python and Database \n",
    "        #con = cx_Oracle.connect(database information)\n",
    "    #3. Create a cursor object\n",
    "        #cursor = con.cursor()\n",
    "    #4. Execute the SQL queries \n",
    "        #Cursor consists of various methods \n",
    "            #cursor.execute(sqlquery) - > single sql query\n",
    "            #cursor.executescript(sqlqueries) - > Execute the string of SQL queries seperated by ';'\n",
    "            #cursor.executemany() - > To execute a parameterized query\n",
    "    #5. Fetch the results \n",
    "            #cursor.fetchone() - > To fetch only one row \n",
    "            #cursor.fetchall() - > To fetch all the rows\n",
    "            #cursor.fetchmany(n) - > To fetch n rows\n",
    "    #6. commit()\n",
    "        #rollback()\n",
    "    #7. cursor.close() \n",
    "        #con.close()"
   ]
  },
  {
   "cell_type": "code",
   "execution_count": 4,
   "metadata": {},
   "outputs": [
    {
     "name": "stdout",
     "output_type": "stream",
     "text": [
      "Connection established successfully\n",
      "Version: 11.2.0.1.0\n"
     ]
    }
   ],
   "source": [
    "import cx_Oracle\n",
    "con = cx_Oracle.connect('hr/atharv2210@localhost:1521/ORCL')\n",
    "if con!=None:\n",
    "    print('Connection established successfully')\n",
    "    print('Version:', con.version)\n",
    "else:\n",
    "    print('Connection did not established')\n",
    "con.close()"
   ]
  },
  {
   "cell_type": "code",
   "execution_count": 9,
   "metadata": {},
   "outputs": [
    {
     "name": "stdout",
     "output_type": "stream",
     "text": [
      "The table is created in the database\n"
     ]
    }
   ],
   "source": [
    "dbdetails = 'hr/atharv2210@localhost:1521/ORCL'\n",
    "import cx_Oracle\n",
    "try: \n",
    "    query = \"create table students_details (sid number, stuname varchar2(20), stumarks number(10,2), stuaddr varchar2(20))\"\n",
    "    con = cx_Oracle.connect(dbdetails)\n",
    "    cursor = con.cursor()\n",
    "    cursor.execute(query)\n",
    "    print('The table is created in the database')\n",
    "except cx.Oracle.DatabaseError as e: \n",
    "    if con:\n",
    "        con.rollback()\n",
    "        print('There is a problem:', e)\n",
    "finally:\n",
    "    if cursor:\n",
    "        cursor.close()\n",
    "    if con: \n",
    "        con.close()"
   ]
  },
  {
   "cell_type": "code",
   "execution_count": 8,
   "metadata": {},
   "outputs": [
    {
     "name": "stdout",
     "output_type": "stream",
     "text": [
      "The table is dropped in the database\n"
     ]
    }
   ],
   "source": [
    "dbdetails = 'hr/atharv2210@localhost:1521/ORCL'\n",
    "import cx_Oracle\n",
    "try: \n",
    "    query = \"drop table students_details\"\n",
    "    con = cx_Oracle.connect(dbdetails)\n",
    "    cursor = con.cursor()\n",
    "    cursor.execute(query)\n",
    "    print('The table is dropped in the database')\n",
    "except cx.Oracle.DatabaseError as e: \n",
    "    if con:\n",
    "        con.rollback()\n",
    "        print('There is a problem:', e)\n",
    "finally:\n",
    "    if cursor:\n",
    "        cursor.close()\n",
    "    if con: \n",
    "        con.close()"
   ]
  },
  {
   "cell_type": "code",
   "execution_count": 11,
   "metadata": {},
   "outputs": [
    {
     "name": "stdout",
     "output_type": "stream",
     "text": [
      "The record is inserted in the database\n"
     ]
    }
   ],
   "source": [
    "dbdetails = 'hr/atharv2210@localhost:1521/ORCL'\n",
    "import cx_Oracle\n",
    "try: \n",
    "    query = \"insert into students_details values (100, 'Rahul', 44, 'Gurgaon')\"\n",
    "    con = cx_Oracle.connect(dbdetails)\n",
    "    cursor = con.cursor()\n",
    "    cursor.execute(query)\n",
    "    con.commit()\n",
    "    print('The record is inserted in the database')\n",
    "except cx.Oracle.DatabaseError as e: \n",
    "    if con:\n",
    "        con.rollback()\n",
    "        print('There is a problem:', e)\n",
    "finally:\n",
    "    if cursor:\n",
    "        cursor.close()\n",
    "    if con: \n",
    "        con.close()"
   ]
  },
  {
   "cell_type": "code",
   "execution_count": 16,
   "metadata": {},
   "outputs": [
    {
     "name": "stdout",
     "output_type": "stream",
     "text": [
      "The record is inserted in the database\n"
     ]
    }
   ],
   "source": [
    "dbdetails = 'hr/atharv2210@localhost:1521/ORCL'\n",
    "import cx_Oracle\n",
    "try: \n",
    "    query = \"insert into students_details values (:sid, :stuname, :stumarks, :stuaddr)\"\n",
    "    con = cx_Oracle.connect(dbdetails)\n",
    "    cursor = con.cursor()\n",
    "    records = [(101, 'Priyanka', 97, 'Nagpur'),(102, 'Khushal', 95, 'Pune'),(103, 'Piyush', 99, 'Mumbai')]\n",
    "    cursor.executemany(query, records)\n",
    "    con.commit()\n",
    "    print('The record is inserted in the database')\n",
    "except cx.Oracle.DatabaseError as e: \n",
    "    if con:\n",
    "        con.rollback()\n",
    "        print('There is a problem:', e)\n",
    "finally:\n",
    "    if cursor:\n",
    "        cursor.close()\n",
    "    if con: \n",
    "        con.close()"
   ]
  },
  {
   "cell_type": "code",
   "execution_count": 14,
   "metadata": {},
   "outputs": [
    {
     "data": {
      "text/html": [
       "<div>\n",
       "<style scoped>\n",
       "    .dataframe tbody tr th:only-of-type {\n",
       "        vertical-align: middle;\n",
       "    }\n",
       "\n",
       "    .dataframe tbody tr th {\n",
       "        vertical-align: top;\n",
       "    }\n",
       "\n",
       "    .dataframe thead th {\n",
       "        text-align: right;\n",
       "    }\n",
       "</style>\n",
       "<table border=\"1\" class=\"dataframe\">\n",
       "  <thead>\n",
       "    <tr style=\"text-align: right;\">\n",
       "      <th></th>\n",
       "      <th>0</th>\n",
       "      <th>1</th>\n",
       "      <th>2</th>\n",
       "      <th>3</th>\n",
       "      <th>4</th>\n",
       "    </tr>\n",
       "  </thead>\n",
       "  <tbody>\n",
       "    <tr>\n",
       "      <th>0</th>\n",
       "      <td>1</td>\n",
       "      <td>2</td>\n",
       "      <td>3</td>\n",
       "      <td>4</td>\n",
       "      <td>5</td>\n",
       "    </tr>\n",
       "    <tr>\n",
       "      <th>1</th>\n",
       "      <td>3</td>\n",
       "      <td>4</td>\n",
       "      <td>5</td>\n",
       "      <td>6</td>\n",
       "      <td>7</td>\n",
       "    </tr>\n",
       "    <tr>\n",
       "      <th>2</th>\n",
       "      <td>4</td>\n",
       "      <td>5</td>\n",
       "      <td>6</td>\n",
       "      <td>7</td>\n",
       "      <td>8</td>\n",
       "    </tr>\n",
       "  </tbody>\n",
       "</table>\n",
       "</div>"
      ],
      "text/plain": [
       "   0  1  2  3  4\n",
       "0  1  2  3  4  5\n",
       "1  3  4  5  6  7\n",
       "2  4  5  6  7  8"
      ]
     },
     "execution_count": 14,
     "metadata": {},
     "output_type": "execute_result"
    }
   ],
   "source": [
    "import pandas as pd\n",
    "list1 = [1,2,3,4,5]\n",
    "list2 = [3,4,5,6,7]\n",
    "list3 = [4,5,6,7,8]\n",
    "import numpy as np\n",
    "pd.DataFrame(np.array([list1,list2,list3]))"
   ]
  },
  {
   "cell_type": "code",
   "execution_count": 19,
   "metadata": {},
   "outputs": [
    {
     "name": "stdout",
     "output_type": "stream",
     "text": [
      "Enter the student id:1\n",
      "Enter the student name:a\n",
      "Enter the marks of the student:10\n",
      "Enter the address of the student:r\n",
      "The record is inserted in the database\n",
      "Do you want to insert one more record [Yes|No]:Yes\n",
      "Enter the student id:2\n",
      "Enter the student name:b\n",
      "Enter the marks of the student:20\n",
      "Enter the address of the student:c\n",
      "The record is inserted in the database\n",
      "Do you want to insert one more record [Yes|No]:No\n"
     ]
    }
   ],
   "source": [
    "dbdetails = 'hr/atharv2210@localhost:1521/ORCL'\n",
    "import cx_Oracle\n",
    "try: \n",
    "    #query = \"insert into students_details values (:sid, :stuname, :stumarks, :stuaddr)\"\n",
    "    con = cx_Oracle.connect(dbdetails)\n",
    "    cursor = con.cursor()\n",
    "    while True: \n",
    "        sid = int(input('Enter the student id:'))\n",
    "        stuname = input('Enter the student name:')\n",
    "        stumarks = float(input('Enter the marks of the student:'))\n",
    "        stuaddr = input('Enter the address of the student:')\n",
    "        sql = \"insert into students_details values (%d, '%s', %f, '%s')\"\n",
    "        cursor.execute(sql %(sid, stuname,stumarks,stuaddr))\n",
    "        con.commit()\n",
    "        print('The record is inserted in the database')\n",
    "        option = input('Do you want to insert one more record [Yes|No]:')\n",
    "        if option == 'No':\n",
    "            break\n",
    "except cx.Oracle.DatabaseError as e: \n",
    "    if con:\n",
    "        con.rollback()\n",
    "        print('There is a problem:', e)\n",
    "finally:\n",
    "    if cursor:\n",
    "        cursor.close()\n",
    "    if con: \n",
    "        con.close()"
   ]
  },
  {
   "cell_type": "code",
   "execution_count": null,
   "metadata": {},
   "outputs": [],
   "source": []
  },
  {
   "cell_type": "code",
   "execution_count": null,
   "metadata": {},
   "outputs": [],
   "source": []
  },
  {
   "cell_type": "code",
   "execution_count": null,
   "metadata": {},
   "outputs": [],
   "source": []
  }
 ],
 "metadata": {
  "kernelspec": {
   "display_name": "Python 3",
   "language": "python",
   "name": "python3"
  },
  "language_info": {
   "codemirror_mode": {
    "name": "ipython",
    "version": 3
   },
   "file_extension": ".py",
   "mimetype": "text/x-python",
   "name": "python",
   "nbconvert_exporter": "python",
   "pygments_lexer": "ipython3",
   "version": "3.8.3"
  }
 },
 "nbformat": 4,
 "nbformat_minor": 4
}
